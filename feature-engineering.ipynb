{
  "nbformat": 4,
  "nbformat_minor": 0,
  "metadata": {
    "colab": {
      "provenance": []
    },
    "kernelspec": {
      "name": "python3",
      "display_name": "Python 3"
    },
    "language_info": {
      "name": "python"
    }
  },
  "cells": [
    {
      "cell_type": "code",
      "source": [
        "!pip install boruta"
      ],
      "metadata": {
        "collapsed": true,
        "colab": {
          "base_uri": "https://localhost:8080/"
        },
        "id": "8tNMshYl9HoH",
        "outputId": "2fe94ccb-3a1b-42e3-c8df-ec13a4259b0c"
      },
      "execution_count": 2,
      "outputs": [
        {
          "output_type": "stream",
          "name": "stdout",
          "text": [
            "Collecting boruta\n",
            "  Downloading Boruta-0.4.3-py3-none-any.whl.metadata (8.8 kB)\n",
            "Requirement already satisfied: numpy>=1.10.4 in /usr/local/lib/python3.11/dist-packages (from boruta) (2.0.2)\n",
            "Requirement already satisfied: scikit-learn>=0.17.1 in /usr/local/lib/python3.11/dist-packages (from boruta) (1.6.1)\n",
            "Requirement already satisfied: scipy>=0.17.0 in /usr/local/lib/python3.11/dist-packages (from boruta) (1.14.1)\n",
            "Requirement already satisfied: joblib>=1.2.0 in /usr/local/lib/python3.11/dist-packages (from scikit-learn>=0.17.1->boruta) (1.4.2)\n",
            "Requirement already satisfied: threadpoolctl>=3.1.0 in /usr/local/lib/python3.11/dist-packages (from scikit-learn>=0.17.1->boruta) (3.6.0)\n",
            "Downloading Boruta-0.4.3-py3-none-any.whl (57 kB)\n",
            "\u001b[2K   \u001b[90m━━━━━━━━━━━━━━━━━━━━━━━━━━━━━━━━━━━━━━━━\u001b[0m \u001b[32m57.9/57.9 kB\u001b[0m \u001b[31m3.3 MB/s\u001b[0m eta \u001b[36m0:00:00\u001b[0m\n",
            "\u001b[?25hInstalling collected packages: boruta\n",
            "Successfully installed boruta-0.4.3\n"
          ]
        }
      ]
    },
    {
      "cell_type": "code",
      "execution_count": 3,
      "metadata": {
        "id": "TJGOIRUo84nk"
      },
      "outputs": [],
      "source": [
        "import pandas as pd\n",
        "import numpy as np\n",
        "from sklearn.datasets import load_breast_cancer\n",
        "from sklearn.ensemble import RandomForestClassifier\n",
        "from sklearn.linear_model import LogisticRegression\n",
        "from sklearn.decomposition import PCA\n",
        "from sklearn.feature_selection import RFE\n",
        "from boruta import BorutaPy\n",
        "from sklearn.model_selection import train_test_split\n",
        "from sklearn.metrics import classification_report\n",
        "import matplotlib.pyplot as plt\n",
        "import seaborn as sns"
      ]
    },
    {
      "cell_type": "code",
      "source": [
        "data = load_breast_cancer()\n",
        "X = pd.DataFrame(data.data, columns = data.feature_names)\n",
        "y = pd.Series(data.target, name='target')"
      ],
      "metadata": {
        "id": "JuenehVn9Mrl"
      },
      "execution_count": 4,
      "outputs": []
    },
    {
      "cell_type": "code",
      "source": [
        "print(\"Dataset Shape:\", X.shape)"
      ],
      "metadata": {
        "colab": {
          "base_uri": "https://localhost:8080/"
        },
        "collapsed": true,
        "id": "DoIhtWJa9V8Y",
        "outputId": "0041b807-a87b-4ed9-fedf-bec4ba8e3c37"
      },
      "execution_count": 5,
      "outputs": [
        {
          "output_type": "stream",
          "name": "stdout",
          "text": [
            "Dataset Shape: (569, 30)\n"
          ]
        }
      ]
    },
    {
      "cell_type": "code",
      "source": [
        "X_train, X_test, y_train, y_test = train_test_split(X, y, test_size=0.3, random_state=42)"
      ],
      "metadata": {
        "id": "ldZX42NZ9a16"
      },
      "execution_count": 7,
      "outputs": []
    },
    {
      "cell_type": "code",
      "source": [
        "# Feature Selection with Boruta\n",
        "rf = RandomForestClassifier(n_estimators = 100, random_state = 42, n_jobs = -1)\n",
        "boruta_selector = BorutaPy(estimator = rf, n_estimators = 'auto', random_state = 42)\n",
        "boruta_selector.fit(X_train.values, y_train.values)\n",
        "\n",
        "boruta_support = boruta_selector.support_\n",
        "boruta_features = X_train.columns[boruta_support].tolist()\n",
        "print(\"Selected Features by Boruta:\", boruta_features)"
      ],
      "metadata": {
        "colab": {
          "base_uri": "https://localhost:8080/"
        },
        "collapsed": true,
        "id": "69pHSb0T9gtl",
        "outputId": "aefaea0f-a39c-4f53-bafd-ccfe3d07188d"
      },
      "execution_count": 13,
      "outputs": [
        {
          "output_type": "stream",
          "name": "stdout",
          "text": [
            "Selected Features by Boruta: ['mean radius', 'mean texture', 'mean perimeter', 'mean area', 'mean compactness', 'mean concavity', 'mean concave points', 'radius error', 'perimeter error', 'area error', 'concavity error', 'concave points error', 'worst radius', 'worst texture', 'worst perimeter', 'worst area', 'worst smoothness', 'worst compactness', 'worst concavity', 'worst concave points', 'worst symmetry', 'worst fractal dimension']\n"
          ]
        }
      ]
    },
    {
      "cell_type": "code",
      "source": [
        "# Recursive Feature Elimination (RFE)\n",
        "logreg = LogisticRegression(max_iter = 10000, solver = 'liblinear')\n",
        "rfe_selector = RFE(estimator = logreg, n_features_to_select = 10, step = 1)\n",
        "rfe_selector.fit(X_train, y_train)\n",
        "\n",
        "rfe_support = rfe_selector.support_\n",
        "rfe_features = X_train.columns[rfe_support].tolist()\n",
        "print(\"Selected Features by RFE:\", rfe_features)"
      ],
      "metadata": {
        "colab": {
          "base_uri": "https://localhost:8080/"
        },
        "collapsed": true,
        "id": "WmR8QY_5939v",
        "outputId": "e91139cc-19fd-47ef-831b-0a2d0b3e25fe"
      },
      "execution_count": 14,
      "outputs": [
        {
          "output_type": "stream",
          "name": "stdout",
          "text": [
            "Selected Features by RFE: ['mean radius', 'mean concavity', 'mean concave points', 'radius error', 'perimeter error', 'worst radius', 'worst perimeter', 'worst compactness', 'worst concavity', 'worst concave points']\n"
          ]
        }
      ]
    },
    {
      "cell_type": "code",
      "source": [
        "# PCA\n",
        "pca = PCA(n_components = 5)\n",
        "X_train_pca = pca.fit_transform(X_train)\n",
        "X_test_pca = pca.transform(X_test)\n",
        "\n",
        "print(\"Explained Variance by PCA Components:\", pca.explained_variance_ratio_)"
      ],
      "metadata": {
        "colab": {
          "base_uri": "https://localhost:8080/"
        },
        "collapsed": true,
        "id": "tXgbA779968-",
        "outputId": "c8e25e4c-1ed5-4d40-a0e6-099f1d9bc702"
      },
      "execution_count": 15,
      "outputs": [
        {
          "output_type": "stream",
          "name": "stdout",
          "text": [
            "Explained Variance by PCA Components: [9.81351172e-01 1.65201603e-02 1.91058893e-03 1.25398750e-04\n",
            " 8.11330525e-05]\n"
          ]
        }
      ]
    },
    {
      "cell_type": "code",
      "source": [
        "def evaluate_model(X_train_sel, X_test_sel, y_train, y_test, name):\n",
        "    clf = RandomForestClassifier(random_state = 42)\n",
        "    clf.fit(X_train_sel, y_train)\n",
        "    y_pred = clf.predict(X_test_sel)\n",
        "    print(f\"\\n Performance using {name}:\")\n",
        "    print(classification_report(y_test, y_pred))\n",
        "\n",
        "# Boruta\n",
        "evaluate_model(X_train[boruta_features], X_test[boruta_features], y_train, y_test, \"Boruta\")\n",
        "\n",
        "# RFE\n",
        "evaluate_model(X_train[rfe_features], X_test[rfe_features], y_train, y_test, \"RFE\")\n",
        "\n",
        "# PCA\n",
        "evaluate_model(X_train_pca, X_test_pca, y_train, y_test, \"PCA\")"
      ],
      "metadata": {
        "colab": {
          "base_uri": "https://localhost:8080/"
        },
        "collapsed": true,
        "id": "2HQ7Fx_J99c6",
        "outputId": "93765e22-91cd-4fd0-f481-361fc20d4118"
      },
      "execution_count": 16,
      "outputs": [
        {
          "output_type": "stream",
          "name": "stdout",
          "text": [
            "\n",
            " Performance using Boruta:\n",
            "              precision    recall  f1-score   support\n",
            "\n",
            "           0       0.98      0.94      0.96        63\n",
            "           1       0.96      0.99      0.98       108\n",
            "\n",
            "    accuracy                           0.97       171\n",
            "   macro avg       0.97      0.96      0.97       171\n",
            "weighted avg       0.97      0.97      0.97       171\n",
            "\n",
            "\n",
            " Performance using RFE:\n",
            "              precision    recall  f1-score   support\n",
            "\n",
            "           0       0.95      0.90      0.93        63\n",
            "           1       0.95      0.97      0.96       108\n",
            "\n",
            "    accuracy                           0.95       171\n",
            "   macro avg       0.95      0.94      0.94       171\n",
            "weighted avg       0.95      0.95      0.95       171\n",
            "\n",
            "\n",
            " Performance using PCA:\n",
            "              precision    recall  f1-score   support\n",
            "\n",
            "           0       0.97      0.94      0.95        63\n",
            "           1       0.96      0.98      0.97       108\n",
            "\n",
            "    accuracy                           0.96       171\n",
            "   macro avg       0.97      0.96      0.96       171\n",
            "weighted avg       0.96      0.96      0.96       171\n",
            "\n"
          ]
        }
      ]
    }
  ]
}
